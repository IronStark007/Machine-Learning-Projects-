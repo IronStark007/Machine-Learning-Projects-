{
 "cells": [
  {
   "cell_type": "code",
   "execution_count": 1,
   "metadata": {},
   "outputs": [],
   "source": [
    "#importing libraries\n",
    "import tensorflow as tf\n",
    "from tensorflow.keras.models import load_model\n",
    "import numpy as np\n",
    "import cv2"
   ]
  },
  {
   "cell_type": "code",
   "execution_count": 4,
   "metadata": {},
   "outputs": [],
   "source": [
    "#loading the trained model\n",
    "model=load_model('face_mask.model')"
   ]
  },
  {
   "cell_type": "code",
   "execution_count": 5,
   "metadata": {},
   "outputs": [],
   "source": [
    "#initializing the camera and harcascade files\n",
    "cap=cv2.VideoCapture(0)\n",
    "\n",
    "facecascade=cv2.CascadeClassifier(r'haarcascade_files_0a4_0mqynju/haarcascade_frontalface_default.xml')"
   ]
  },
  {
   "cell_type": "code",
   "execution_count": 6,
   "metadata": {},
   "outputs": [
    {
     "name": "stdout",
     "output_type": "stream",
     "text": [
      "0 0.23337120655924082\n",
      "0 0.2708324231207371\n",
      "0 0.2709428081288934\n",
      "0 0.26098282542079687\n",
      "Bad Frame\n",
      "0 0.24905030149966478\n",
      "Bad Frame\n",
      "1 0.167898612562567\n",
      "1 0.16723097069188952\n",
      "Bad Frame\n",
      "0 0.21039026323705912\n",
      "Bad Frame\n",
      "0 0.21039026323705912\n",
      "Bad Frame\n",
      "0 0.26524944696575403\n",
      "Bad Frame\n",
      "0 0.27135168202221394\n",
      "0 0.24405799340456724\n",
      "Bad Frame\n",
      "0 0.19288823241367936\n",
      "Bad Frame\n",
      "0 0.18278667703270912\n",
      "0 0.19892174750566483\n",
      "0 0.2113469410687685\n",
      "0 0.202343356795609\n",
      "0 0.18460281426087022\n",
      "Bad Frame\n",
      "0 0.18460281426087022\n",
      "0 0.26913483161479235\n",
      "Bad Frame\n",
      "0 0.26205487083643675\n",
      "Bad Frame\n",
      "0 0.2510698279365897\n",
      "Bad Frame\n",
      "0 0.2713618101552129\n",
      "Bad Frame\n",
      "0 0.2713618101552129\n",
      "Bad Frame\n",
      "0 0.27136013377457857\n",
      "Bad Frame\n",
      "0 0.2712259069085121\n",
      "Bad Frame\n",
      "0 0.2712259069085121\n",
      "Bad Frame\n",
      "0 0.27031905483454466\n",
      "Bad Frame\n",
      "0 0.24444314185529947\n",
      "0 0.2713159890845418\n",
      "Bad Frame\n",
      "0 0.2713618101552129\n",
      "0 0.19412674009799957\n",
      "0 0.17481879331171513\n",
      "0 0.2697461750358343\n",
      "0 0.25105432141572237\n",
      "0 0.22377343848347664\n",
      "0 0.22573142778128386\n",
      "0 0.27131105307489634\n",
      "0 0.26861499063670635\n",
      "0 0.2602724824100733\n",
      "0 0.24961375165730715\n",
      "0 0.2666726242750883\n",
      "0 0.2712254412472248\n",
      "1 0.25301328860223293\n",
      "0 0.22629504092037678\n",
      "0 0.27091200463473797\n",
      "0 0.2698645228520036\n",
      "0 0.2662409795448184\n",
      "0 0.2707231091335416\n",
      "0 0.25315694510936737\n",
      "0 0.21073899697512388\n",
      "0 0.24112130049616098\n",
      "0 0.1841690158471465\n",
      "0 0.2660635858774185\n",
      "0 0.21478284616023302\n",
      "0 0.1680860761553049\n",
      "Bad Frame\n",
      "0 0.2496796427294612\n",
      "Bad Frame\n",
      "0 0.2542931819334626\n",
      "0 0.19176126224920154\n",
      "0 0.2364443615078926\n",
      "0 0.23902924731373787\n"
     ]
    }
   ],
   "source": [
    "#real time face detection\n",
    "while True:\n",
    "    success,frame=cap.read()   #reading the frame \n",
    "    image=cv2.resize(frame,((frame.shape[0]//1),(frame.shape[1]//1)))  #resizing the frame\n",
    "    face=facecascade.detectMultiScale(image)\n",
    "    for x,y,w,h in face:\n",
    "        try:\n",
    "            face_img=image[y:x+h,x:x+w]  #getting the coordinate of the face\n",
    "            resize_img=cv2.resize(face_img,(224,224))  #resizing the face image\n",
    "            image_array=tf.keras.preprocessing.image.img_to_array(resize_img)  #image into array\n",
    "            image_array=tf.expand_dims(image_array,0)  #expanding the dimesion to fit into the model\n",
    "            prediction=model.predict(image_array)       #predicting the result\n",
    "            result=tf.nn.softmax(prediction[0])    #getting the predicted label\n",
    "            label=np.argmax(result)\n",
    "        except Exception as e:\n",
    "            print('Bad Frame')\n",
    "        if label==0:\n",
    "            cv2.rectangle(image,(x,y),(x+w,y+h),(0,255,0),2)\n",
    "            cv2.putText(image,\"Mask\",(x,y),cv2.FONT_HERSHEY_SIMPLEX,0.8,(0,255,0),2)\n",
    "        elif label==1:\n",
    "            cv2.rectangle(image,(x,y),(x+w,y+h),(0,0,255),2)\n",
    "            cv2.putText(image,\"NO Mask\",(x,y),cv2.FONT_HERSHEY_SIMPLEX,0.8,(0,0,255),2)\n",
    "        else:\n",
    "            result=0\n",
    "    #displaying\n",
    "    resize_img=cv2.resize(image,(1100,700))\n",
    "    cv2.imshow(\"Face Detection Test\",resize_img)\n",
    "    print(np.argmax(result),100*np.max(result))\n",
    "    key=cv2.waitKey(10)    #waitKey for the delay\n",
    "    if key==ord('q'):\n",
    "        break\n",
    "        \n",
    "cap.release()\n",
    "cv2.destroyAllWindows()"
   ]
  },
  {
   "cell_type": "markdown",
   "metadata": {},
   "source": [
    "___THE END___"
   ]
  }
 ],
 "metadata": {
  "kernelspec": {
   "display_name": "Python 3",
   "language": "python",
   "name": "python3"
  },
  "language_info": {
   "codemirror_mode": {
    "name": "ipython",
    "version": 3
   },
   "file_extension": ".py",
   "mimetype": "text/x-python",
   "name": "python",
   "nbconvert_exporter": "python",
   "pygments_lexer": "ipython3",
   "version": "3.8.5"
  }
 },
 "nbformat": 4,
 "nbformat_minor": 4
}
